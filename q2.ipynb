{
 "cells": [
  {
   "cell_type": "code",
   "execution_count": 1,
   "metadata": {
    "collapsed": true
   },
   "outputs": [],
   "source": [
    "import numpy as np\n",
    "from numpy.linalg import inv\n",
    "from numpy.linalg import det\n",
    "import sys\n",
    "#q2"
   ]
  },
  {
   "cell_type": "code",
   "execution_count": 2,
   "metadata": {
    "collapsed": true
   },
   "outputs": [],
   "source": [
    "#part1-> (A^T A)^-1 A^T Y\n",
    "x = [[1,2], [2,3], [3,3], [4,5], [5, 5],[1,0],[2,1],[3,1],[3,2],[5,3],[6,5]]\n",
    "y = [1,1,1,1,1,-1,-1,-1,-1,-1,-1]"
   ]
  },
  {
   "cell_type": "code",
   "execution_count": 3,
   "metadata": {
    "collapsed": true
   },
   "outputs": [],
   "source": [
    "def least_squared_approach(x, y):\n",
    "    r = x.shape[0]\n",
    "    z = np.zeros((r,1), dtype=np.int64)\n",
    "    z += 1\n",
    "    m = np.append(x, z, axis=1)\n",
    "    A = np.asmatrix(m)\n",
    "    At = A.transpose()\n",
    "    inver = inv(np.matmul(At , A) )\n",
    "    Y = np.asmatrix(y).transpose()\n",
    "    return np.matmul(np.matmul(inver, At), Y)\n"
   ]
  },
  {
   "cell_type": "code",
   "execution_count": 4,
   "metadata": {
    "collapsed": true
   },
   "outputs": [],
   "source": [
    "x = [[3,3], [3,0], [2,1], [0,2], [-1, 1], [0,0], [-1,-1], [1,0]]\n",
    "x = np.asarray(x)\n",
    "y = [1,1,1,1,-1,-1,-1,-1]\n",
    "y = np.asarray(y)\n",
    "lsa = least_squared_approach(x,y)"
   ]
  },
  {
   "cell_type": "code",
   "execution_count": 5,
   "metadata": {
    "collapsed": true
   },
   "outputs": [],
   "source": [
    "def find_threshhold(mat, class1, class2):\n",
    "    t1 = -sys.maxint\n",
    "    t2 = sys.maxint\n",
    "    mat = np.asarray(mat)[:,0]\n",
    "    for r1 in class1:\n",
    "        print r1, mat\n",
    "        t1=max(t1,-(np.dot(mat,r1)))\n",
    "    for r2 in class2:\n",
    "        t2=min(t2,-1*(np.dot(mat,r2)))\n",
    "    return (t1+t2)/2\n",
    "    \n",
    "def fisher_lda(x, y):\n",
    "    class1 = []\n",
    "    class2 = []\n",
    "    for a in zip(x,y):\n",
    "        if a[1]==1:\n",
    "            class1.append(a[0])\n",
    "        else:\n",
    "            class2.append(a[0])\n",
    "    mat1 = np.asmatrix(class1)\n",
    "    mat2 = np.asmatrix(class2)\n",
    "    u1 = mat1.mean(0)\n",
    "    u2 = mat2.mean(0)\n",
    "    reg1 = mat1 - u1\n",
    "    reg2 = mat2 - u2\n",
    "    sb2 = np.matmul(reg1.transpose(), reg1) + np.matmul(reg2.transpose(), reg2)\n",
    "    u = (u1-u2).transpose()\n",
    "    ans = np.matmul(np.linalg.inv(sb2),u)\n",
    "    ans /= np.linalg.norm(ans)\n",
    "    b = find_threshhold(np.asarray(ans), class1, class2)\n",
    "    print b\n",
    "    ans =  np.vstack([np.asarray(ans), b])\n",
    "    return ans"
   ]
  },
  {
   "cell_type": "code",
   "execution_count": 6,
   "metadata": {},
   "outputs": [
    {
     "name": "stdout",
     "output_type": "stream",
     "text": [
      "[3 3] [ 0.74651327  0.66537052]\n",
      "[3 0] [ 0.74651327  0.66537052]\n",
      "[2 1] [ 0.74651327  0.66537052]\n",
      "[0 2] [ 0.74651327  0.66537052]\n",
      "-1.03862716059\n"
     ]
    },
    {
     "data": {
      "text/plain": [
       "array([[ 0.74651327],\n",
       "       [ 0.66537052],\n",
       "       [-1.03862716]])"
      ]
     },
     "execution_count": 6,
     "metadata": {},
     "output_type": "execute_result"
    }
   ],
   "source": [
    "fisher = fisher_lda(x,y)\n",
    "fisher"
   ]
  },
  {
   "cell_type": "code",
   "execution_count": 61,
   "metadata": {
    "collapsed": true
   },
   "outputs": [],
   "source": [
    "import matplotlib.pyplot as plt\n",
    "from matplotlib.ticker import MultipleLocator"
   ]
  },
  {
   "cell_type": "code",
   "execution_count": 62,
   "metadata": {},
   "outputs": [
    {
     "name": "stdout",
     "output_type": "stream",
     "text": [
      "q2 1st dataset\n",
      "fisher\n",
      "[[ 0.74651327]\n",
      " [ 0.66537052]\n",
      " [-1.03862716]]\n",
      "lsa\n",
      "[[ 0.375     ]\n",
      " [ 0.33423913]\n",
      " [-0.57880435]]\n"
     ]
    }
   ],
   "source": [
    "print \"q2 1st dataset\"\n",
    "print \"fisher\"\n",
    "print fisher\n",
    "print \"lsa\"\n",
    "print lsa"
   ]
  },
  {
   "cell_type": "code",
   "execution_count": 63,
   "metadata": {},
   "outputs": [
    {
     "data": {
      "image/png": "[encoded data removed]",
      "text/plain": [
       "<matplotlib.figure.Figure at 0x7fc65c3b8b50>"
      ]
     },
     "metadata": {},
     "output_type": "display_data"
    }
   ],
   "source": [
    "fig, ax = plt.subplots()\n",
    "ax.xaxis.set_major_locator(MultipleLocator(0.5))\n",
    "ax.yaxis.set_major_locator(MultipleLocator(0.5))\n",
    "#figure = plt.figure()\n",
    "plt.scatter(x[:,0],x[:,1],c=y[:])\n",
    "plot_graph(lsa.tolist(),ax, \"red\", \"LSA\")\n",
    "plot_graph(fisher.tolist(), ax, \"blue\", \"FISHER\")\n",
    "plt.xlim(-2, 4)\n",
    "plt.ylim(-2, 4)\n",
    "fig.set_size_inches(12, 8)\n",
    "plt.savefig(\"q2_a.jpg\")\n",
    "plt.show()\n"
   ]
  },
  {
   "cell_type": "code",
   "execution_count": 64,
   "metadata": {
    "collapsed": true
   },
   "outputs": [],
   "source": [
    "def plot_graph(vect, ax, color,label):\n",
    "    n = 1000\n",
    "    if len(vect)<3:\n",
    "        vect.append(0)\n",
    "    x = np.linspace(-4, 4, 10000)\n",
    "    x = np.append(x,0)\n",
    "    ax.plot(x, -1 * ( vect[0] * x +  vect[2])/vect[1], color=color, label=label)\n",
    "    plt.legend(loc='best') "
   ]
  },
  {
   "cell_type": "code",
   "execution_count": 10,
   "metadata": {},
   "outputs": [
    {
     "name": "stdout",
     "output_type": "stream",
     "text": [
      "[ 3.  3.] [ 0.78102704  0.62449721]\n",
      "[ 3.  0.] [ 0.78102704  0.62449721]\n",
      "[ 2.  1.] [ 0.78102704  0.62449721]\n",
      "[ 0.   1.5] [ 0.78102704  0.62449721]\n",
      "-0.858886428102\n"
     ]
    }
   ],
   "source": [
    "#part 4\n",
    "x = [[3,3], [3,0], [2,1], [0,1.5], [-1, 1], [0,0], [-1,-1], [1,0]]\n",
    "x = np.asarray(x)\n",
    "y = [1,1,1,1,-1,-1,-1,-1]\n",
    "y = np.asarray(y)\n",
    "lsa = least_squared_approach(x,y)\n",
    "fisher = fisher_lda(x,y)\n",
    "#m = lsa[2]\n",
    "#fisher_extended = np.vstack([fisher, m])"
   ]
  },
  {
   "cell_type": "code",
   "execution_count": 66,
   "metadata": {},
   "outputs": [
    {
     "data": {
      "image/png": "[encoded data removed]",
      "text/plain": [
       "<matplotlib.figure.Figure at 0x7fc65c8e5590>"
      ]
     },
     "metadata": {},
     "output_type": "display_data"
    }
   ],
   "source": [
    "fig, ax = plt.subplots()\n",
    "ax.xaxis.set_major_locator(MultipleLocator(0.5))\n",
    "ax.yaxis.set_major_locator(MultipleLocator(0.5))\n",
    "plt.scatter(x[:,0],x[:,1],c=y[:])\n",
    "plt.xlim(-2, 4)\n",
    "plt.ylim(-2, 4)\n",
    "plot_graph(lsa.tolist(),ax, \"red\", \"LSA\")\n",
    "plot_graph(fisher.tolist(), ax, \"blue\", \"FISHER\")\n",
    "fig.set_size_inches(12, 8)\n",
    "plt.savefig(\"q2_b.jpg\")\n",
    "plt.show()"
   ]
  },
  {
   "cell_type": "code",
   "execution_count": 67,
   "metadata": {},
   "outputs": [
    {
     "name": "stdout",
     "output_type": "stream",
     "text": [
      "q2 2nd dataset\n",
      "fisher\n",
      "[[ 0.78102704]\n",
      " [ 0.62449721]\n",
      " [-0.85888643]]\n",
      "lsa\n",
      "[[ 0.37779521]\n",
      " [ 0.30207925]\n",
      " [-0.53825029]]\n"
     ]
    }
   ],
   "source": [
    "print \"q2 2nd dataset\"\n",
    "print \"fisher\"\n",
    "print fisher\n",
    "print \"lsa\"\n",
    "print lsa"
   ]
  },
  {
   "cell_type": "code",
   "execution_count": null,
   "metadata": {
    "collapsed": true
   },
   "outputs": [],
   "source": []
  },
  {
   "cell_type": "code",
   "execution_count": null,
   "metadata": {
    "collapsed": true
   },
   "outputs": [],
   "source": []
  },
  {
   "cell_type": "code",
   "execution_count": 215,
   "metadata": {},
   "outputs": [
    {
     "name": "stdout",
     "output_type": "stream",
     "text": [
      "[-10.         -9.9979998  -9.9959996 ...,   9.9979998  10.          0.       ] [[ 13.23170732  13.22946319  13.22721906 ...,  -9.20507295  -9.20731707\n",
      "    2.01219512]]\n"
     ]
    },
    {
     "data": {
      "text/plain": [
       "0.0"
      ]
     },
     "execution_count": 215,
     "metadata": {},
     "output_type": "execute_result"
    }
   ],
   "source": [
    "x = np.linspace(-10, 10, 10000)\n",
    "x = np.append(x,0)\n",
    "vect = fisher\n",
    "print x, -1 * ( vect[0] * x +  vect[2])/vect[1]\n",
    "x[10000]"
   ]
  },
  {
   "cell_type": "code",
   "execution_count": 11,
   "metadata": {},
   "outputs": [
    {
     "data": {
      "text/plain": [
       "array([ 1.25064935])"
      ]
     },
     "execution_count": 11,
     "metadata": {},
     "output_type": "execute_result"
    }
   ],
   "source": [
    "fisher[0]/fisher[1]"
   ]
  },
  {
   "cell_type": "code",
   "execution_count": 12,
   "metadata": {},
   "outputs": [
    {
     "data": {
      "text/plain": [
       "matrix([[ 1.25064935]])"
      ]
     },
     "execution_count": 12,
     "metadata": {},
     "output_type": "execute_result"
    }
   ],
   "source": [
    "lsa[0]/lsa[1]"
   ]
  },
  {
   "cell_type": "code",
   "execution_count": null,
   "metadata": {
    "collapsed": true
   },
   "outputs": [],
   "source": []
  }
 ],
 "metadata": {
  "kernelspec": {
   "display_name": "Python 2",
   "language": "python",
   "name": "python2"
  },
  "language_info": {
   "codemirror_mode": {
    "name": "ipython",
    "version": 2
   },
   "file_extension": ".py",
   "mimetype": "text/x-python",
   "name": "python",
   "nbconvert_exporter": "python",
   "pygments_lexer": "ipython2",
   "version": "2.7.12"
  }
 },
 "nbformat": 4,
 "nbformat_minor": 2
}
