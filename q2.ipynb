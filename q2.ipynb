{
 "cells": [
  {
   "cell_type": "code",
   "execution_count": 15,
   "metadata": {
    "collapsed": true
   },
   "outputs": [],
   "source": [
    "import numpy as np\n",
    "from numpy.linalg import inv\n",
    "from numpy.linalg import det\n",
    "#q2"
   ]
  },
  {
   "cell_type": "code",
   "execution_count": 2,
   "metadata": {
    "collapsed": true
   },
   "outputs": [],
   "source": [
    "#part1-> (A^T A)^-1 A^T Y"
   ]
  },
  {
   "cell_type": "code",
   "execution_count": 79,
   "metadata": {},
   "outputs": [],
   "source": [
    "def least_squared_approach(x, y):\n",
    "    r = x.shape[0]\n",
    "    z = np.zeros((r,1), dtype=np.int64)\n",
    "    z += 1\n",
    "    m = np.append(x, z, axis=1)\n",
    "    A = np.asmatrix(m)\n",
    "    At = A.transpose()\n",
    "    inver = inv(np.matmul(At , A) )\n",
    "    Y = np.asmatrix(y).transpose()\n",
    "    return np.matmul(np.matmul(inver, At), Y)\n"
   ]
  },
  {
   "cell_type": "code",
   "execution_count": 80,
   "metadata": {
    "collapsed": true
   },
   "outputs": [],
   "source": [
    "x = [[3,3], [3,0], [2,1], [0,2], [-1, 1], [0,0], [-1,-1], [1,0]]\n",
    "x = np.asarray(x)\n",
    "y = [1,1,1,1,-1,-1,-1,-1]\n",
    "y = np.asarray(y)\n",
    "lsa = least_squared_approach(x,y)"
   ]
  },
  {
   "cell_type": "code",
   "execution_count": 81,
   "metadata": {},
   "outputs": [],
   "source": [
    "def fisher_lda(x, y):\n",
    "    class1 = []\n",
    "    class2 = []\n",
    "    for a in zip(x,y):\n",
    "        if a[1]==1:\n",
    "            class1.append(a[0])\n",
    "        else:\n",
    "            class2.append(a[0])\n",
    "    mat1 = np.asmatrix(class1)\n",
    "    mat2 = np.asmatrix(class2)\n",
    "    u1 = mat1.mean(0)\n",
    "    u2 = mat2.mean(0)\n",
    "    reg1 = mat1 - u1\n",
    "    reg2 = mat2 - u2\n",
    "    sb2 = np.matmul(reg1.transpose(), reg1) + np.matmul(reg2.transpose(), reg2)\n",
    "    u = (u1-u2).transpose()\n",
    "    return np.matmul(sb2,u)"
   ]
  },
  {
   "cell_type": "code",
   "execution_count": 82,
   "metadata": {
    "collapsed": true
   },
   "outputs": [],
   "source": [
    "fisher = fisher_lda(x,y)"
   ]
  },
  {
   "cell_type": "code",
   "execution_count": 83,
   "metadata": {
    "collapsed": true
   },
   "outputs": [],
   "source": [
    "import matplotlib.pyplot as plt"
   ]
  },
  {
   "cell_type": "code",
   "execution_count": 84,
   "metadata": {},
   "outputs": [
    {
     "data": {
      "image/png": "[encoded data removed]",
      "text/plain": [
       "<matplotlib.figure.Figure at 0x7f45f1b09990>"
      ]
     },
     "metadata": {},
     "output_type": "display_data"
    }
   ],
   "source": [
    "fig, ax = plt.subplots()\n",
    "plt.scatter(x[:,0],x[:,1],c=y[:])\n",
    "plot_graph(lsa.tolist(),ax, \"red\")\n",
    "plot_graph(fisher.tolist(), ax, \"blue\")\n",
    "plt.show()"
   ]
  },
  {
   "cell_type": "code",
   "execution_count": 85,
   "metadata": {
    "collapsed": true
   },
   "outputs": [],
   "source": [
    "def plot_graph(vect, ax, color):\n",
    "    n = 600\n",
    "    if len(vect)<3:\n",
    "        vect.append(0)\n",
    "    x = np.random.randn(n) % 6 -2\n",
    "    y = np.random.randn(n) % 6 -2\n",
    "    ax.plot(x, -1 * ( vect[0] * x +  vect[2])/vect[1], color=color)"
   ]
  },
  {
   "cell_type": "code",
   "execution_count": 87,
   "metadata": {
    "collapsed": true
   },
   "outputs": [],
   "source": [
    "#part 4\n",
    "x = [[3,3], [3,0], [2,1], [0,1.5], [-1, 1], [0,0], [-1,-1], [1,0]]\n",
    "x = np.asarray(x)\n",
    "y = [1,1,1,1,-1,-1,-1,-1]\n",
    "y = np.asarray(y)\n",
    "lsa = least_squared_approach(x,y)\n",
    "fisher = fisher_lda(x,y)"
   ]
  },
  {
   "cell_type": "code",
   "execution_count": 88,
   "metadata": {},
   "outputs": [
    {
     "data": {
      "image/png": "[encoded data removed]",
      "text/plain": [
       "<matplotlib.figure.Figure at 0x7f45f17712d0>"
      ]
     },
     "metadata": {},
     "output_type": "display_data"
    }
   ],
   "source": [
    "fig, ax = plt.subplots()\n",
    "plt.scatter(x[:,0],x[:,1],c=y[:])\n",
    "plot_graph(lsa.tolist(),ax, \"red\")\n",
    "plot_graph(fisher.tolist(), ax, \"blue\")\n",
    "plt.show()"
   ]
  },
  {
   "cell_type": "code",
   "execution_count": null,
   "metadata": {
    "collapsed": true
   },
   "outputs": [],
   "source": []
  }
 ],
 "metadata": {
  "kernelspec": {
   "display_name": "Python 2",
   "language": "python",
   "name": "python2"
  },
  "language_info": {
   "codemirror_mode": {
    "name": "ipython",
    "version": 2
   },
   "file_extension": ".py",
   "mimetype": "text/x-python",
   "name": "python",
   "nbconvert_exporter": "python",
   "pygments_lexer": "ipython2",
   "version": "2.7.12"
  }
 },
 "nbformat": 4,
 "nbformat_minor": 2
}
